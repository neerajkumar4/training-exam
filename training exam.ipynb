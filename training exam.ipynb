{
 "cells": [
  {
   "cell_type": "code",
   "execution_count": 2,
   "id": "1812f5f3",
   "metadata": {},
   "outputs": [
    {
     "name": "stdout",
     "output_type": "stream",
     "text": [
      "Enter the main string: ABCDCDC\n",
      "Enter the substring: CDC\n",
      "output: 2\n"
     ]
    }
   ],
   "source": [
    "#Q1\n",
    "def count_sub_string(main_string, sub_string):\n",
    "    count = 0\n",
    "    sub_len = len(sub_string)\n",
    "    \n",
    "    for i in range(len(main_string) - sub_len + 1):\n",
    "        if main_string[i:i + sub_len] == sub_string:\n",
    "            count += 1\n",
    "            \n",
    "    return count\n",
    "main_string = input(\"Enter the main string: \")\n",
    "sub_string = input(\"Enter the substring: \")\n",
    "\n",
    "result = count_sub_string(main_string, sub_string)\n",
    "print(f\"output: {result}\")\n"
   ]
  },
  {
   "cell_type": "code",
   "execution_count": 4,
   "id": "e05bfb4d",
   "metadata": {},
   "outputs": [
    {
     "name": "stdout",
     "output_type": "stream",
     "text": [
      "Factorials: [2, 24, 720, 40320]\n"
     ]
    }
   ],
   "source": [
    "#Q2\n",
    "import math\n",
    "\n",
    "nums = [2, 4, 6, 8]\n",
    "\n",
    "facts = [math.factorial(i) for i in nums]\n",
    "\n",
    "print(\"Factorials:\", facts)\n"
   ]
  },
  {
   "cell_type": "code",
   "execution_count": 10,
   "id": "1682bc92",
   "metadata": {},
   "outputs": [
    {
     "name": "stdout",
     "output_type": "stream",
     "text": [
      "Enter the string: Aaaaa\n",
      "{'A': 1, 'a': 4}\n"
     ]
    }
   ],
   "source": [
    "#Q4\n",
    "vowels = ['a','e','i','o','u','A','E','I','O','U']\n",
    "dict = {}\n",
    "s = input(\"Enter the string: \")\n",
    "s = list(s)\n",
    "for i in s:\n",
    "    if i in vowels:\n",
    "        if i in dict:\n",
    "            dict[i]+=1\n",
    "        else:\n",
    "            dict[i]=1\n",
    "print(dict)"
   ]
  },
  {
   "cell_type": "code",
   "execution_count": 11,
   "id": "7f4df850",
   "metadata": {},
   "outputs": [
    {
     "name": "stdout",
     "output_type": "stream",
     "text": [
      "Enter the string: Neeraj\n",
      "Forward order:\n",
      "N e e r a j \n",
      "Reverse order:\n",
      "j a r e e N "
     ]
    }
   ],
   "source": [
    "#Q5\n",
    "s = input(\"Enter the string: \")\n",
    "print(\"Forward order:\")\n",
    "index = 0\n",
    "while index < len(s):\n",
    "    print(s[index], end=\" \")\n",
    "    index += 1\n",
    "\n",
    "print(\"\\nReverse order:\")\n",
    "index = len(s) - 1\n",
    "while index >= 0:\n",
    "    print(s[index], end=\" \")\n",
    "    index -= 1\n"
   ]
  },
  {
   "cell_type": "code",
   "execution_count": 13,
   "id": "ff4fd987",
   "metadata": {},
   "outputs": [
    {
     "name": "stdout",
     "output_type": "stream",
     "text": [
      "Enter the main string: abc\n",
      "Enter the substring: bc\n",
      "output: True\n"
     ]
    }
   ],
   "source": [
    "#Q6\n",
    "def Is_sub_string(main_string, sub_string):\n",
    "    sub_len = len(sub_string)\n",
    "    \n",
    "    for i in range(len(main_string) - sub_len + 1):\n",
    "        if main_string[i:i + sub_len] == sub_string:\n",
    "            return True\n",
    "            \n",
    "    return False\n",
    "main_string = input(\"Enter the main string: \")\n",
    "sub_string = input(\"Enter the substring: \")\n",
    "\n",
    "result = Is_sub_string(main_string, sub_string)\n",
    "print(f\"output: {result}\")\n"
   ]
  },
  {
   "cell_type": "code",
   "execution_count": 18,
   "id": "e9de9285",
   "metadata": {},
   "outputs": [
    {
     "name": "stdout",
     "output_type": "stream",
     "text": [
      "Enter the main string: abcbcbc\n",
      "Enter the substring: bc\n",
      "output: 2\n"
     ]
    }
   ],
   "source": [
    "#Q7\n",
    "def find_sub_string(main_string, sub_string):\n",
    "    sub_len = len(sub_string)\n",
    "    \n",
    "    for i in range(len(main_string) - sub_len + 1):\n",
    "        if main_string[i:i + sub_len] == sub_string:\n",
    "            return i + 1  \n",
    "    \n",
    "    return -1  \n",
    "\n",
    "main_string = input(\"Enter the main string: \")\n",
    "sub_string = input(\"Enter the substring: \")\n",
    "\n",
    "result = find_sub_string(main_string, sub_string)\n",
    "print(f\"output: {result}\")\n"
   ]
  },
  {
   "cell_type": "code",
   "execution_count": 19,
   "id": "89e06ff9",
   "metadata": {},
   "outputs": [
    {
     "name": "stdout",
     "output_type": "stream",
     "text": [
      "Enter the main string: it is summer\n",
      "Enter the substring: hot\n",
      "Enter the position number: 6\n",
      "Result: it is hotsummer\n"
     ]
    }
   ],
   "source": [
    "#Q8\n",
    "def insert_sub_string(main_string, sub_string, position):\n",
    "    new_string = main_string[:position] + sub_string + main_string[position:]\n",
    "    return new_string\n",
    "\n",
    "main_string = input(\"Enter the main string: \")\n",
    "sub_string = input(\"Enter the substring: \")\n",
    "position = int(input(\"Enter the position number: \"))\n",
    "\n",
    "result = insert_sub_string(main_string, sub_string, position)\n",
    "\n",
    "print(f\"Result: {result}\")\n"
   ]
  },
  {
   "cell_type": "code",
   "execution_count": 22,
   "id": "88c8b0a0",
   "metadata": {},
   "outputs": [
    {
     "name": "stdout",
     "output_type": "stream",
     "text": [
      "Generated password: 0Nh(7Rn\\{I&.\n",
      "Do you like this password? (yes/no): no\n",
      "Wait for another password...\n",
      "\n",
      "Generated password: yCNq*m}(wrB5\n",
      "Do you like this password? (yes/no): no\n",
      "Wait for another password...\n",
      "\n",
      "Generated password: rtKi#Lr1Oz$A\n",
      "Do you like this password? (yes/no): yes\n",
      "Password accepted!\n"
     ]
    }
   ],
   "source": [
    "#Q3\n",
    "import random\n",
    "import string\n",
    "\n",
    "def generate_password(length=12):\n",
    "    characters = string.ascii_letters + string.digits + string.punctuation\n",
    "    password = ''.join(random.choice(characters) for _ in range(length))\n",
    "    return password\n",
    "\n",
    "\n",
    "while True:\n",
    "    password = generate_password()\n",
    "    print(f\"Generated password: {password}\")\n",
    "    choice = input(\"Do you like this password? (yes/no): \")\n",
    "        \n",
    "    if choice == 'yes':\n",
    "        print(\"Password accepted!\")\n",
    "        break\n",
    "    else:\n",
    "        print(\"Wait for another password...\\n\")\n",
    "\n"
   ]
  },
  {
   "cell_type": "code",
   "execution_count": 29,
   "id": "b6f81d71",
   "metadata": {},
   "outputs": [
    {
     "name": "stdout",
     "output_type": "stream",
     "text": [
      "<generator object fibonacci_generator at 0x000001B0B89F3270>\n",
      "0\n",
      "1\n",
      "1\n",
      "2\n",
      "3\n",
      "5\n",
      "8\n",
      "13\n",
      "21\n",
      "34\n"
     ]
    }
   ],
   "source": [
    "def fibonacci_generator():\n",
    "    a, b = 0, 1\n",
    "    while True:\n",
    "        yield a\n",
    "        a, b = b, a + b\n",
    "\n",
    "fib_gen = fibonacci_generator()\n",
    "print(fib_gen)\n",
    "\n",
    "for _ in range(10):\n",
    "    print(next(fib_gen))\n"
   ]
  },
  {
   "cell_type": "code",
   "execution_count": null,
   "id": "56141146",
   "metadata": {},
   "outputs": [],
   "source": []
  }
 ],
 "metadata": {
  "kernelspec": {
   "display_name": "Python 3",
   "language": "python",
   "name": "python3"
  },
  "language_info": {
   "codemirror_mode": {
    "name": "ipython",
    "version": 3
   },
   "file_extension": ".py",
   "mimetype": "text/x-python",
   "name": "python",
   "nbconvert_exporter": "python",
   "pygments_lexer": "ipython3",
   "version": "3.8.8"
  }
 },
 "nbformat": 4,
 "nbformat_minor": 5
}
